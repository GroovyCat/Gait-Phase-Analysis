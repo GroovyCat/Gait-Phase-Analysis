{
  "nbformat": 4,
  "nbformat_minor": 0,
  "metadata": {
    "colab": {
      "name": "Gait Phase Analysis.ipynb",
      "provenance": []
    },
    "kernelspec": {
      "name": "python3",
      "display_name": "Python 3"
    },
    "accelerator": "GPU"
  },
  "cells": [
    {
      "cell_type": "code",
      "metadata": {
        "id": "ceCe2r26xSvn"
      },
      "source": [
        "import pandas as pd\r\n",
        "import numpy as np\r\n",
        "from sklearn.model_selection import train_test_split # 훈련 데이터 셋 나누기\r\n",
        "import matplotlib.pyplot as plt\r\n",
        "import tensorflow as tf\r\n",
        "from tensorflow.keras.preprocessing import sequence\r\n",
        "from tensorflow.keras.utils import to_categorical\r\n",
        "from tensorflow.keras.models import Sequential\r\n",
        "from tensorflow.keras.layers import Dense, SimpleRNN\r\n",
        "from tensorflow.keras.layers import LSTM\r\n",
        "import sklearn.metrics as metrics\r\n",
        "from math import sqrt\r\n",
        "import seaborn as sns"
      ],
      "execution_count": null,
      "outputs": []
    },
    {
      "cell_type": "code",
      "metadata": {
        "colab": {
          "base_uri": "https://localhost:8080/",
          "height": 215
        },
        "id": "DWLp96zRxusk",
        "outputId": "dc2c787c-d550-4612-f51b-0667570328ab"
      },
      "source": [
        "gait_data1 = pd.read_csv('/folder_name/GP1_0.6_marker.csv') # 1번 피실험자 0.6m/s 속도일때의 센서 위치 값\r\n",
        "gait_data2 = pd.read_csv('/folder_name/GP6_0.6_marker.csv') # 6번 피실험자 0.6m/s 속도일때의 센서 위치 값\r\n",
        "gait_data1.head()"
      ],
      "execution_count": null,
      "outputs": [
        {
          "output_type": "execute_result",
          "data": {
            "text/html": [
              "<div>\n",
              "<style scoped>\n",
              "    .dataframe tbody tr th:only-of-type {\n",
              "        vertical-align: middle;\n",
              "    }\n",
              "\n",
              "    .dataframe tbody tr th {\n",
              "        vertical-align: top;\n",
              "    }\n",
              "\n",
              "    .dataframe thead th {\n",
              "        text-align: right;\n",
              "    }\n",
              "</style>\n",
              "<table border=\"1\" class=\"dataframe\">\n",
              "  <thead>\n",
              "    <tr style=\"text-align: right;\">\n",
              "      <th></th>\n",
              "      <th>L_FCC_x</th>\n",
              "      <th>L_FM1_x</th>\n",
              "      <th>L_FM2_x</th>\n",
              "      <th>L_FM5_x</th>\n",
              "      <th>R_FCC_x</th>\n",
              "      <th>R_FM1_x</th>\n",
              "      <th>R_FM2_x</th>\n",
              "      <th>R_FM5_x</th>\n",
              "      <th>L_FCC_y</th>\n",
              "      <th>L_FM1_y</th>\n",
              "      <th>L_FM2_y</th>\n",
              "      <th>L_FM5_y</th>\n",
              "      <th>R_FCC_y</th>\n",
              "      <th>R_FM1_y</th>\n",
              "      <th>R_FM2_y</th>\n",
              "      <th>R_FM5_y</th>\n",
              "      <th>L_FCC_z</th>\n",
              "      <th>L_FM1_z</th>\n",
              "      <th>L_FM2_z</th>\n",
              "      <th>L_FM5_z</th>\n",
              "      <th>R_FCC_z</th>\n",
              "      <th>R_FM1_z</th>\n",
              "      <th>R_FM2_z</th>\n",
              "      <th>R_FM5_z</th>\n",
              "    </tr>\n",
              "  </thead>\n",
              "  <tbody>\n",
              "    <tr>\n",
              "      <th>0</th>\n",
              "      <td>1.127087</td>\n",
              "      <td>1.332534</td>\n",
              "      <td>1.328893</td>\n",
              "      <td>1.305142</td>\n",
              "      <td>0.804407</td>\n",
              "      <td>1.017605</td>\n",
              "      <td>1.017485</td>\n",
              "      <td>0.991847</td>\n",
              "      <td>0.575397</td>\n",
              "      <td>0.587244</td>\n",
              "      <td>0.635224</td>\n",
              "      <td>0.681603</td>\n",
              "      <td>0.466974</td>\n",
              "      <td>0.487775</td>\n",
              "      <td>0.448289</td>\n",
              "      <td>0.396237</td>\n",
              "      <td>0.090627</td>\n",
              "      <td>0.084655</td>\n",
              "      <td>0.095734</td>\n",
              "      <td>0.067779</td>\n",
              "      <td>0.081946</td>\n",
              "      <td>0.058241</td>\n",
              "      <td>0.063082</td>\n",
              "      <td>0.048901</td>\n",
              "    </tr>\n",
              "    <tr>\n",
              "      <th>1</th>\n",
              "      <td>1.131831</td>\n",
              "      <td>1.337421</td>\n",
              "      <td>1.333921</td>\n",
              "      <td>1.310700</td>\n",
              "      <td>0.802088</td>\n",
              "      <td>1.015296</td>\n",
              "      <td>1.015148</td>\n",
              "      <td>0.989509</td>\n",
              "      <td>0.575327</td>\n",
              "      <td>0.586249</td>\n",
              "      <td>0.634272</td>\n",
              "      <td>0.680777</td>\n",
              "      <td>0.466954</td>\n",
              "      <td>0.487758</td>\n",
              "      <td>0.448250</td>\n",
              "      <td>0.396193</td>\n",
              "      <td>0.090195</td>\n",
              "      <td>0.086384</td>\n",
              "      <td>0.097342</td>\n",
              "      <td>0.069010</td>\n",
              "      <td>0.082106</td>\n",
              "      <td>0.058203</td>\n",
              "      <td>0.063062</td>\n",
              "      <td>0.048842</td>\n",
              "    </tr>\n",
              "    <tr>\n",
              "      <th>2</th>\n",
              "      <td>1.136807</td>\n",
              "      <td>1.342521</td>\n",
              "      <td>1.339171</td>\n",
              "      <td>1.316510</td>\n",
              "      <td>0.799617</td>\n",
              "      <td>1.012833</td>\n",
              "      <td>1.012659</td>\n",
              "      <td>0.987012</td>\n",
              "      <td>0.575228</td>\n",
              "      <td>0.585174</td>\n",
              "      <td>0.633242</td>\n",
              "      <td>0.679868</td>\n",
              "      <td>0.466931</td>\n",
              "      <td>0.487738</td>\n",
              "      <td>0.448206</td>\n",
              "      <td>0.396145</td>\n",
              "      <td>0.089767</td>\n",
              "      <td>0.088228</td>\n",
              "      <td>0.099043</td>\n",
              "      <td>0.070312</td>\n",
              "      <td>0.082279</td>\n",
              "      <td>0.058166</td>\n",
              "      <td>0.063040</td>\n",
              "      <td>0.048781</td>\n",
              "    </tr>\n",
              "    <tr>\n",
              "      <th>3</th>\n",
              "      <td>1.141961</td>\n",
              "      <td>1.347770</td>\n",
              "      <td>1.344579</td>\n",
              "      <td>1.322506</td>\n",
              "      <td>0.797009</td>\n",
              "      <td>1.010229</td>\n",
              "      <td>1.010033</td>\n",
              "      <td>0.984370</td>\n",
              "      <td>0.575094</td>\n",
              "      <td>0.584023</td>\n",
              "      <td>0.632139</td>\n",
              "      <td>0.678875</td>\n",
              "      <td>0.466905</td>\n",
              "      <td>0.487715</td>\n",
              "      <td>0.448160</td>\n",
              "      <td>0.396093</td>\n",
              "      <td>0.089354</td>\n",
              "      <td>0.090171</td>\n",
              "      <td>0.100820</td>\n",
              "      <td>0.071672</td>\n",
              "      <td>0.082464</td>\n",
              "      <td>0.058132</td>\n",
              "      <td>0.063014</td>\n",
              "      <td>0.048717</td>\n",
              "    </tr>\n",
              "    <tr>\n",
              "      <th>4</th>\n",
              "      <td>1.147230</td>\n",
              "      <td>1.353103</td>\n",
              "      <td>1.350078</td>\n",
              "      <td>1.328615</td>\n",
              "      <td>0.794281</td>\n",
              "      <td>1.007500</td>\n",
              "      <td>1.007287</td>\n",
              "      <td>0.981602</td>\n",
              "      <td>0.574925</td>\n",
              "      <td>0.582801</td>\n",
              "      <td>0.630968</td>\n",
              "      <td>0.677799</td>\n",
              "      <td>0.466875</td>\n",
              "      <td>0.487688</td>\n",
              "      <td>0.448109</td>\n",
              "      <td>0.396038</td>\n",
              "      <td>0.088963</td>\n",
              "      <td>0.092198</td>\n",
              "      <td>0.102656</td>\n",
              "      <td>0.073079</td>\n",
              "      <td>0.082663</td>\n",
              "      <td>0.058101</td>\n",
              "      <td>0.062985</td>\n",
              "      <td>0.048651</td>\n",
              "    </tr>\n",
              "  </tbody>\n",
              "</table>\n",
              "</div>"
            ],
            "text/plain": [
              "    L_FCC_x   L_FM1_x   L_FM2_x  ...   R_FM1_z   R_FM2_z   R_FM5_z\n",
              "0  1.127087  1.332534  1.328893  ...  0.058241  0.063082  0.048901\n",
              "1  1.131831  1.337421  1.333921  ...  0.058203  0.063062  0.048842\n",
              "2  1.136807  1.342521  1.339171  ...  0.058166  0.063040  0.048781\n",
              "3  1.141961  1.347770  1.344579  ...  0.058132  0.063014  0.048717\n",
              "4  1.147230  1.353103  1.350078  ...  0.058101  0.062985  0.048651\n",
              "\n",
              "[5 rows x 24 columns]"
            ]
          },
          "metadata": {
            "tags": []
          },
          "execution_count": 2
        }
      ]
    },
    {
      "cell_type": "code",
      "metadata": {
        "colab": {
          "base_uri": "https://localhost:8080/",
          "height": 422
        },
        "id": "eUR6wM3Kx5se",
        "outputId": "81e54622-953c-4ac8-a84c-021fce510dac"
      },
      "source": [
        "data1 = pd.DataFrame({'secim':np.zeros(12000)}) # 0으로 처리\r\n",
        "data2 = pd.DataFrame({'secim':np.ones(12000)}) # 1로 처리\r\n",
        "\r\n",
        "data1 = pd.concat([gait_data1,data1],axis=1) # secim 데이터프레임 합치기\r\n",
        "data2 = pd.concat([gait_data2,data2],axis=1) # secim 데이터프레임 합치기\r\n",
        "\r\n",
        "data = data1.append(data2,ignore_index=True) # 1개 데이터프레임 뒤에 추가\r\n",
        "data"
      ],
      "execution_count": null,
      "outputs": [
        {
          "output_type": "execute_result",
          "data": {
            "text/html": [
              "<div>\n",
              "<style scoped>\n",
              "    .dataframe tbody tr th:only-of-type {\n",
              "        vertical-align: middle;\n",
              "    }\n",
              "\n",
              "    .dataframe tbody tr th {\n",
              "        vertical-align: top;\n",
              "    }\n",
              "\n",
              "    .dataframe thead th {\n",
              "        text-align: right;\n",
              "    }\n",
              "</style>\n",
              "<table border=\"1\" class=\"dataframe\">\n",
              "  <thead>\n",
              "    <tr style=\"text-align: right;\">\n",
              "      <th></th>\n",
              "      <th>L_FCC_x</th>\n",
              "      <th>L_FM1_x</th>\n",
              "      <th>L_FM2_x</th>\n",
              "      <th>L_FM5_x</th>\n",
              "      <th>R_FCC_x</th>\n",
              "      <th>R_FM1_x</th>\n",
              "      <th>R_FM2_x</th>\n",
              "      <th>R_FM5_x</th>\n",
              "      <th>L_FCC_y</th>\n",
              "      <th>L_FM1_y</th>\n",
              "      <th>L_FM2_y</th>\n",
              "      <th>L_FM5_y</th>\n",
              "      <th>R_FCC_y</th>\n",
              "      <th>R_FM1_y</th>\n",
              "      <th>R_FM2_y</th>\n",
              "      <th>R_FM5_y</th>\n",
              "      <th>L_FCC_z</th>\n",
              "      <th>L_FM1_z</th>\n",
              "      <th>L_FM2_z</th>\n",
              "      <th>L_FM5_z</th>\n",
              "      <th>R_FCC_z</th>\n",
              "      <th>R_FM1_z</th>\n",
              "      <th>R_FM2_z</th>\n",
              "      <th>R_FM5_z</th>\n",
              "      <th>secim</th>\n",
              "    </tr>\n",
              "  </thead>\n",
              "  <tbody>\n",
              "    <tr>\n",
              "      <th>0</th>\n",
              "      <td>1.127087</td>\n",
              "      <td>1.332534</td>\n",
              "      <td>1.328893</td>\n",
              "      <td>1.305142</td>\n",
              "      <td>0.804407</td>\n",
              "      <td>1.017605</td>\n",
              "      <td>1.017485</td>\n",
              "      <td>0.991847</td>\n",
              "      <td>0.575397</td>\n",
              "      <td>0.587244</td>\n",
              "      <td>0.635224</td>\n",
              "      <td>0.681603</td>\n",
              "      <td>0.466974</td>\n",
              "      <td>0.487775</td>\n",
              "      <td>0.448289</td>\n",
              "      <td>0.396237</td>\n",
              "      <td>0.090627</td>\n",
              "      <td>0.084655</td>\n",
              "      <td>0.095734</td>\n",
              "      <td>0.067779</td>\n",
              "      <td>0.081946</td>\n",
              "      <td>0.058241</td>\n",
              "      <td>0.063082</td>\n",
              "      <td>0.048901</td>\n",
              "      <td>0.0</td>\n",
              "    </tr>\n",
              "    <tr>\n",
              "      <th>1</th>\n",
              "      <td>1.131831</td>\n",
              "      <td>1.337421</td>\n",
              "      <td>1.333921</td>\n",
              "      <td>1.310700</td>\n",
              "      <td>0.802088</td>\n",
              "      <td>1.015296</td>\n",
              "      <td>1.015148</td>\n",
              "      <td>0.989509</td>\n",
              "      <td>0.575327</td>\n",
              "      <td>0.586249</td>\n",
              "      <td>0.634272</td>\n",
              "      <td>0.680777</td>\n",
              "      <td>0.466954</td>\n",
              "      <td>0.487758</td>\n",
              "      <td>0.448250</td>\n",
              "      <td>0.396193</td>\n",
              "      <td>0.090195</td>\n",
              "      <td>0.086384</td>\n",
              "      <td>0.097342</td>\n",
              "      <td>0.069010</td>\n",
              "      <td>0.082106</td>\n",
              "      <td>0.058203</td>\n",
              "      <td>0.063062</td>\n",
              "      <td>0.048842</td>\n",
              "      <td>0.0</td>\n",
              "    </tr>\n",
              "    <tr>\n",
              "      <th>2</th>\n",
              "      <td>1.136807</td>\n",
              "      <td>1.342521</td>\n",
              "      <td>1.339171</td>\n",
              "      <td>1.316510</td>\n",
              "      <td>0.799617</td>\n",
              "      <td>1.012833</td>\n",
              "      <td>1.012659</td>\n",
              "      <td>0.987012</td>\n",
              "      <td>0.575228</td>\n",
              "      <td>0.585174</td>\n",
              "      <td>0.633242</td>\n",
              "      <td>0.679868</td>\n",
              "      <td>0.466931</td>\n",
              "      <td>0.487738</td>\n",
              "      <td>0.448206</td>\n",
              "      <td>0.396145</td>\n",
              "      <td>0.089767</td>\n",
              "      <td>0.088228</td>\n",
              "      <td>0.099043</td>\n",
              "      <td>0.070312</td>\n",
              "      <td>0.082279</td>\n",
              "      <td>0.058166</td>\n",
              "      <td>0.063040</td>\n",
              "      <td>0.048781</td>\n",
              "      <td>0.0</td>\n",
              "    </tr>\n",
              "    <tr>\n",
              "      <th>3</th>\n",
              "      <td>1.141961</td>\n",
              "      <td>1.347770</td>\n",
              "      <td>1.344579</td>\n",
              "      <td>1.322506</td>\n",
              "      <td>0.797009</td>\n",
              "      <td>1.010229</td>\n",
              "      <td>1.010033</td>\n",
              "      <td>0.984370</td>\n",
              "      <td>0.575094</td>\n",
              "      <td>0.584023</td>\n",
              "      <td>0.632139</td>\n",
              "      <td>0.678875</td>\n",
              "      <td>0.466905</td>\n",
              "      <td>0.487715</td>\n",
              "      <td>0.448160</td>\n",
              "      <td>0.396093</td>\n",
              "      <td>0.089354</td>\n",
              "      <td>0.090171</td>\n",
              "      <td>0.100820</td>\n",
              "      <td>0.071672</td>\n",
              "      <td>0.082464</td>\n",
              "      <td>0.058132</td>\n",
              "      <td>0.063014</td>\n",
              "      <td>0.048717</td>\n",
              "      <td>0.0</td>\n",
              "    </tr>\n",
              "    <tr>\n",
              "      <th>4</th>\n",
              "      <td>1.147230</td>\n",
              "      <td>1.353103</td>\n",
              "      <td>1.350078</td>\n",
              "      <td>1.328615</td>\n",
              "      <td>0.794281</td>\n",
              "      <td>1.007500</td>\n",
              "      <td>1.007287</td>\n",
              "      <td>0.981602</td>\n",
              "      <td>0.574925</td>\n",
              "      <td>0.582801</td>\n",
              "      <td>0.630968</td>\n",
              "      <td>0.677799</td>\n",
              "      <td>0.466875</td>\n",
              "      <td>0.487688</td>\n",
              "      <td>0.448109</td>\n",
              "      <td>0.396038</td>\n",
              "      <td>0.088963</td>\n",
              "      <td>0.092198</td>\n",
              "      <td>0.102656</td>\n",
              "      <td>0.073079</td>\n",
              "      <td>0.082663</td>\n",
              "      <td>0.058101</td>\n",
              "      <td>0.062985</td>\n",
              "      <td>0.048651</td>\n",
              "      <td>0.0</td>\n",
              "    </tr>\n",
              "    <tr>\n",
              "      <th>...</th>\n",
              "      <td>...</td>\n",
              "      <td>...</td>\n",
              "      <td>...</td>\n",
              "      <td>...</td>\n",
              "      <td>...</td>\n",
              "      <td>...</td>\n",
              "      <td>...</td>\n",
              "      <td>...</td>\n",
              "      <td>...</td>\n",
              "      <td>...</td>\n",
              "      <td>...</td>\n",
              "      <td>...</td>\n",
              "      <td>...</td>\n",
              "      <td>...</td>\n",
              "      <td>...</td>\n",
              "      <td>...</td>\n",
              "      <td>...</td>\n",
              "      <td>...</td>\n",
              "      <td>...</td>\n",
              "      <td>...</td>\n",
              "      <td>...</td>\n",
              "      <td>...</td>\n",
              "      <td>...</td>\n",
              "      <td>...</td>\n",
              "      <td>...</td>\n",
              "    </tr>\n",
              "    <tr>\n",
              "      <th>23995</th>\n",
              "      <td>0.401484</td>\n",
              "      <td>0.539083</td>\n",
              "      <td>0.538888</td>\n",
              "      <td>0.491567</td>\n",
              "      <td>0.734982</td>\n",
              "      <td>0.960724</td>\n",
              "      <td>0.959389</td>\n",
              "      <td>0.914911</td>\n",
              "      <td>0.582949</td>\n",
              "      <td>0.571319</td>\n",
              "      <td>0.618790</td>\n",
              "      <td>0.672879</td>\n",
              "      <td>0.434386</td>\n",
              "      <td>0.453045</td>\n",
              "      <td>0.403899</td>\n",
              "      <td>0.351520</td>\n",
              "      <td>0.240623</td>\n",
              "      <td>0.070071</td>\n",
              "      <td>0.077178</td>\n",
              "      <td>0.082381</td>\n",
              "      <td>0.073666</td>\n",
              "      <td>0.056643</td>\n",
              "      <td>0.065965</td>\n",
              "      <td>0.043973</td>\n",
              "      <td>1.0</td>\n",
              "    </tr>\n",
              "    <tr>\n",
              "      <th>23996</th>\n",
              "      <td>0.403338</td>\n",
              "      <td>0.538855</td>\n",
              "      <td>0.538673</td>\n",
              "      <td>0.491121</td>\n",
              "      <td>0.733247</td>\n",
              "      <td>0.959008</td>\n",
              "      <td>0.957666</td>\n",
              "      <td>0.913185</td>\n",
              "      <td>0.582399</td>\n",
              "      <td>0.571345</td>\n",
              "      <td>0.618785</td>\n",
              "      <td>0.672597</td>\n",
              "      <td>0.434347</td>\n",
              "      <td>0.453011</td>\n",
              "      <td>0.403868</td>\n",
              "      <td>0.351484</td>\n",
              "      <td>0.243477</td>\n",
              "      <td>0.071028</td>\n",
              "      <td>0.078189</td>\n",
              "      <td>0.083984</td>\n",
              "      <td>0.073644</td>\n",
              "      <td>0.056626</td>\n",
              "      <td>0.065923</td>\n",
              "      <td>0.043943</td>\n",
              "      <td>1.0</td>\n",
              "    </tr>\n",
              "    <tr>\n",
              "      <th>23997</th>\n",
              "      <td>0.404994</td>\n",
              "      <td>0.538718</td>\n",
              "      <td>0.538541</td>\n",
              "      <td>0.490780</td>\n",
              "      <td>0.731728</td>\n",
              "      <td>0.957507</td>\n",
              "      <td>0.956158</td>\n",
              "      <td>0.911674</td>\n",
              "      <td>0.581886</td>\n",
              "      <td>0.571377</td>\n",
              "      <td>0.618787</td>\n",
              "      <td>0.672344</td>\n",
              "      <td>0.434310</td>\n",
              "      <td>0.452981</td>\n",
              "      <td>0.403840</td>\n",
              "      <td>0.351452</td>\n",
              "      <td>0.245938</td>\n",
              "      <td>0.071880</td>\n",
              "      <td>0.079096</td>\n",
              "      <td>0.085413</td>\n",
              "      <td>0.073629</td>\n",
              "      <td>0.056612</td>\n",
              "      <td>0.065887</td>\n",
              "      <td>0.043917</td>\n",
              "      <td>1.0</td>\n",
              "    </tr>\n",
              "    <tr>\n",
              "      <th>23998</th>\n",
              "      <td>0.406465</td>\n",
              "      <td>0.538656</td>\n",
              "      <td>0.538475</td>\n",
              "      <td>0.490528</td>\n",
              "      <td>0.730402</td>\n",
              "      <td>0.956197</td>\n",
              "      <td>0.954845</td>\n",
              "      <td>0.910357</td>\n",
              "      <td>0.581409</td>\n",
              "      <td>0.571415</td>\n",
              "      <td>0.618796</td>\n",
              "      <td>0.672119</td>\n",
              "      <td>0.434277</td>\n",
              "      <td>0.452955</td>\n",
              "      <td>0.403817</td>\n",
              "      <td>0.351425</td>\n",
              "      <td>0.248048</td>\n",
              "      <td>0.072632</td>\n",
              "      <td>0.079903</td>\n",
              "      <td>0.086681</td>\n",
              "      <td>0.073618</td>\n",
              "      <td>0.056600</td>\n",
              "      <td>0.065855</td>\n",
              "      <td>0.043896</td>\n",
              "      <td>1.0</td>\n",
              "    </tr>\n",
              "    <tr>\n",
              "      <th>23999</th>\n",
              "      <td>0.407791</td>\n",
              "      <td>0.538654</td>\n",
              "      <td>0.538463</td>\n",
              "      <td>0.490346</td>\n",
              "      <td>0.729226</td>\n",
              "      <td>0.955035</td>\n",
              "      <td>0.953681</td>\n",
              "      <td>0.909189</td>\n",
              "      <td>0.580959</td>\n",
              "      <td>0.571457</td>\n",
              "      <td>0.618810</td>\n",
              "      <td>0.671915</td>\n",
              "      <td>0.434245</td>\n",
              "      <td>0.452931</td>\n",
              "      <td>0.403796</td>\n",
              "      <td>0.351400</td>\n",
              "      <td>0.249884</td>\n",
              "      <td>0.073306</td>\n",
              "      <td>0.080633</td>\n",
              "      <td>0.087823</td>\n",
              "      <td>0.073610</td>\n",
              "      <td>0.056589</td>\n",
              "      <td>0.065827</td>\n",
              "      <td>0.043879</td>\n",
              "      <td>1.0</td>\n",
              "    </tr>\n",
              "  </tbody>\n",
              "</table>\n",
              "<p>24000 rows × 25 columns</p>\n",
              "</div>"
            ],
            "text/plain": [
              "        L_FCC_x   L_FM1_x   L_FM2_x  ...   R_FM2_z   R_FM5_z  secim\n",
              "0      1.127087  1.332534  1.328893  ...  0.063082  0.048901    0.0\n",
              "1      1.131831  1.337421  1.333921  ...  0.063062  0.048842    0.0\n",
              "2      1.136807  1.342521  1.339171  ...  0.063040  0.048781    0.0\n",
              "3      1.141961  1.347770  1.344579  ...  0.063014  0.048717    0.0\n",
              "4      1.147230  1.353103  1.350078  ...  0.062985  0.048651    0.0\n",
              "...         ...       ...       ...  ...       ...       ...    ...\n",
              "23995  0.401484  0.539083  0.538888  ...  0.065965  0.043973    1.0\n",
              "23996  0.403338  0.538855  0.538673  ...  0.065923  0.043943    1.0\n",
              "23997  0.404994  0.538718  0.538541  ...  0.065887  0.043917    1.0\n",
              "23998  0.406465  0.538656  0.538475  ...  0.065855  0.043896    1.0\n",
              "23999  0.407791  0.538654  0.538463  ...  0.065827  0.043879    1.0\n",
              "\n",
              "[24000 rows x 25 columns]"
            ]
          },
          "metadata": {
            "tags": []
          },
          "execution_count": 3
        }
      ]
    },
    {
      "cell_type": "code",
      "metadata": {
        "colab": {
          "base_uri": "https://localhost:8080/"
        },
        "id": "O70frh0bx_IU",
        "outputId": "2dfbfe76-6b08-47cf-9e3b-e88613eaa460"
      },
      "source": [
        "x = data.drop([\"secim\"],axis=1) # x값은 secim 제외\r\n",
        "y = data.secim.values # y값은 secim 값만 보유\r\n",
        "print(x.head())\r\n",
        "print(y)"
      ],
      "execution_count": null,
      "outputs": [
        {
          "output_type": "stream",
          "text": [
            "    L_FCC_x   L_FM1_x   L_FM2_x  ...   R_FM1_z   R_FM2_z   R_FM5_z\n",
            "0  1.127087  1.332534  1.328893  ...  0.058241  0.063082  0.048901\n",
            "1  1.131831  1.337421  1.333921  ...  0.058203  0.063062  0.048842\n",
            "2  1.136807  1.342521  1.339171  ...  0.058166  0.063040  0.048781\n",
            "3  1.141961  1.347770  1.344579  ...  0.058132  0.063014  0.048717\n",
            "4  1.147230  1.353103  1.350078  ...  0.058101  0.062985  0.048651\n",
            "\n",
            "[5 rows x 24 columns]\n",
            "[0. 0. 0. ... 1. 1. 1.]\n"
          ],
          "name": "stdout"
        }
      ]
    },
    {
      "cell_type": "code",
      "metadata": {
        "colab": {
          "base_uri": "https://localhost:8080/"
        },
        "id": "zDcsP95Dyq4C",
        "outputId": "e807feb4-f70d-4ffb-89d4-75f889137928"
      },
      "source": [
        "x_train, x_test, y_train,y_test = train_test_split(x, y, test_size=0.2, random_state=42) # train 80% test 20%\r\n",
        "x_train_val, x_val, y_train_val, y_val = train_test_split(x_train, y_train, test_size=0.2, random_state=42) # train val 54% val 16%\r\n",
        "print(x_train.shape)\r\n",
        "print(y_train.shape)\r\n",
        "print(x_train_val.shape)\r\n",
        "print(y_train_val.shape)"
      ],
      "execution_count": null,
      "outputs": [
        {
          "output_type": "stream",
          "text": [
            "(19200, 24)\n",
            "(19200,)\n",
            "(15360, 24)\n",
            "(15360,)\n"
          ],
          "name": "stdout"
        }
      ]
    },
    {
      "cell_type": "code",
      "metadata": {
        "colab": {
          "base_uri": "https://localhost:8080/"
        },
        "id": "MjOQywxUDHP-",
        "outputId": "377f10ac-e771-4c88-c4fb-23ec7c078dcf"
      },
      "source": [
        "x_train_onehot = to_categorical(x_train)  # 원-핫 인코딩(타깃의 정수값에 해당하는 원소는 1, 나머지는 0으로 처리)\r\n",
        "x_val_onehot = to_categorical(x_val)      # 선형 이진 분류 방식에 쓰일 수 있음.\r\n",
        "print(x_train_onehot.shape)"
      ],
      "execution_count": null,
      "outputs": [
        {
          "output_type": "stream",
          "text": [
            "(19200, 24, 2)\n"
          ],
          "name": "stdout"
        }
      ]
    },
    {
      "cell_type": "code",
      "metadata": {
        "colab": {
          "base_uri": "https://localhost:8080/",
          "height": 317
        },
        "id": "Qz5HfKGCmrcZ",
        "outputId": "7ba83231-33d4-41a6-94bc-6d3eca9a1636"
      },
      "source": [
        "sns.heatmap(x_train.head(10))"
      ],
      "execution_count": null,
      "outputs": [
        {
          "output_type": "execute_result",
          "data": {
            "text/plain": [
              "<matplotlib.axes._subplots.AxesSubplot at 0x7fb5ff5d7ac8>"
            ]
          },
          "metadata": {
            "tags": []
          },
          "execution_count": 7
        },
        {
          "output_type": "display_data",
          "data": {
            "image/png": "[encoded data removed]",
            "text/plain": [
              "<Figure size 432x288 with 2 Axes>"
            ]
          },
          "metadata": {
            "tags": [],
            "needs_background": "light"
          }
        }
      ]
    },
    {
      "cell_type": "code",
      "metadata": {
        "colab": {
          "base_uri": "https://localhost:8080/",
          "height": 317
        },
        "id": "cCvgfUiIsCy6",
        "outputId": "4b0dbee4-c065-41ce-89dd-1fe0de5bceaa"
      },
      "source": [
        "sns.heatmap(x_train_val.head(10))"
      ],
      "execution_count": null,
      "outputs": [
        {
          "output_type": "execute_result",
          "data": {
            "text/plain": [
              "<matplotlib.axes._subplots.AxesSubplot at 0x7fb5ff54e710>"
            ]
          },
          "metadata": {
            "tags": []
          },
          "execution_count": 8
        },
        {
          "output_type": "display_data",
          "data": {
            "image/png": "[encoded data removed]",
            "text/plain": [
              "<Figure size 432x288 with 2 Axes>"
            ]
          },
          "metadata": {
            "tags": [],
            "needs_background": "light"
          }
        }
      ]
    },
    {
      "cell_type": "code",
      "metadata": {
        "colab": {
          "base_uri": "https://localhost:8080/"
        },
        "id": "xAiLFrIzyUa8",
        "outputId": "d2b49faf-6fba-4d2d-ee28-d2397c1df932"
      },
      "source": [
        "model_bce = Sequential()\r\n",
        "model_bce.add(LSTM(16, activation='relu', return_sequences=True, input_shape=(24, 2)))\r\n",
        "model_bce.add(LSTM(8, activation='relu', return_sequences=True, input_shape=(24, 2)))\r\n",
        "model_bce.add(Dense(1, activation='sigmoid'))\r\n",
        "model_bce.summary()"
      ],
      "execution_count": null,
      "outputs": [
        {
          "output_type": "stream",
          "text": [
            "WARNING:tensorflow:Layer lstm will not use cuDNN kernel since it doesn't meet the cuDNN kernel criteria. It will use generic GPU kernel as fallback when running on GPU\n",
            "WARNING:tensorflow:Layer lstm_1 will not use cuDNN kernel since it doesn't meet the cuDNN kernel criteria. It will use generic GPU kernel as fallback when running on GPU\n",
            "Model: \"sequential\"\n",
            "_________________________________________________________________\n",
            "Layer (type)                 Output Shape              Param #   \n",
            "=================================================================\n",
            "lstm (LSTM)                  (None, 24, 16)            1216      \n",
            "_________________________________________________________________\n",
            "lstm_1 (LSTM)                (None, 24, 8)             800       \n",
            "_________________________________________________________________\n",
            "dense (Dense)                (None, 24, 1)             9         \n",
            "=================================================================\n",
            "Total params: 2,025\n",
            "Trainable params: 2,025\n",
            "Non-trainable params: 0\n",
            "_________________________________________________________________\n"
          ],
          "name": "stdout"
        }
      ]
    },
    {
      "cell_type": "code",
      "metadata": {
        "colab": {
          "base_uri": "https://localhost:8080/"
        },
        "id": "ADaRmMmY7XVf",
        "outputId": "a9565aab-f959-45aa-e1e2-6762194f9a1e"
      },
      "source": [
        "model_bce.compile(optimizer='adam', loss='binary_crossentropy', metrics=['accuracy', 'mae', 'mse'])\r\n",
        "history = model_bce.fit(x_train_onehot, y_train, epochs=20, batch_size=32, validation_data=(x_val_onehot, y_val))"
      ],
      "execution_count": null,
      "outputs": [
        {
          "output_type": "stream",
          "text": [
            "Epoch 1/20\n",
            "600/600 [==============================] - 21s 30ms/step - loss: 0.4217 - accuracy: 0.7580 - mae: 0.3037 - mse: 0.1445 - val_loss: 0.2343 - val_accuracy: 0.8865 - val_mae: 0.1615 - val_mse: 0.0795\n",
            "Epoch 2/20\n",
            "600/600 [==============================] - 18s 29ms/step - loss: 0.2391 - accuracy: 0.8821 - mae: 0.1631 - mse: 0.0814 - val_loss: 0.2286 - val_accuracy: 0.8897 - val_mae: 0.1544 - val_mse: 0.0779\n",
            "Epoch 3/20\n",
            "600/600 [==============================] - 17s 29ms/step - loss: 0.2295 - accuracy: 0.8885 - mae: 0.1555 - mse: 0.0782 - val_loss: 0.2181 - val_accuracy: 0.8952 - val_mae: 0.1466 - val_mse: 0.0735\n",
            "Epoch 4/20\n",
            "600/600 [==============================] - 18s 30ms/step - loss: 0.2188 - accuracy: 0.8974 - mae: 0.1479 - mse: 0.0739 - val_loss: 0.2080 - val_accuracy: 0.9016 - val_mae: 0.1428 - val_mse: 0.0697\n",
            "Epoch 5/20\n",
            "600/600 [==============================] - 18s 29ms/step - loss: 0.2103 - accuracy: 0.9042 - mae: 0.1429 - mse: 0.0707 - val_loss: 0.2033 - val_accuracy: 0.9083 - val_mae: 0.1411 - val_mse: 0.0680\n",
            "Epoch 6/20\n",
            "600/600 [==============================] - 17s 28ms/step - loss: 0.2040 - accuracy: 0.9075 - mae: 0.1377 - mse: 0.0683 - val_loss: 0.2006 - val_accuracy: 0.9083 - val_mae: 0.1381 - val_mse: 0.0671\n",
            "Epoch 7/20\n",
            "600/600 [==============================] - 18s 29ms/step - loss: 0.2027 - accuracy: 0.9067 - mae: 0.1372 - mse: 0.0680 - val_loss: 0.1980 - val_accuracy: 0.9082 - val_mae: 0.1335 - val_mse: 0.0664\n",
            "Epoch 8/20\n",
            "600/600 [==============================] - 17s 29ms/step - loss: 0.2013 - accuracy: 0.9046 - mae: 0.1363 - mse: 0.0680 - val_loss: 0.1962 - val_accuracy: 0.9081 - val_mae: 0.1303 - val_mse: 0.0658\n",
            "Epoch 9/20\n",
            "600/600 [==============================] - 17s 29ms/step - loss: 0.2014 - accuracy: 0.9041 - mae: 0.1363 - mse: 0.0680 - val_loss: 0.1931 - val_accuracy: 0.9082 - val_mae: 0.1301 - val_mse: 0.0648\n",
            "Epoch 10/20\n",
            "600/600 [==============================] - 17s 29ms/step - loss: 0.1995 - accuracy: 0.9045 - mae: 0.1349 - mse: 0.0670 - val_loss: 0.1905 - val_accuracy: 0.9082 - val_mae: 0.1252 - val_mse: 0.0641\n",
            "Epoch 11/20\n",
            "600/600 [==============================] - 18s 30ms/step - loss: 0.1925 - accuracy: 0.9063 - mae: 0.1298 - mse: 0.0651 - val_loss: 0.1896 - val_accuracy: 0.9082 - val_mae: 0.1339 - val_mse: 0.0643\n",
            "Epoch 12/20\n",
            "600/600 [==============================] - 18s 30ms/step - loss: 0.1911 - accuracy: 0.9068 - mae: 0.1299 - mse: 0.0648 - val_loss: 0.1895 - val_accuracy: 0.9083 - val_mae: 0.1331 - val_mse: 0.0644\n",
            "Epoch 13/20\n",
            "600/600 [==============================] - 18s 29ms/step - loss: 0.1923 - accuracy: 0.9044 - mae: 0.1309 - mse: 0.0656 - val_loss: 0.1883 - val_accuracy: 0.9083 - val_mae: 0.1291 - val_mse: 0.0640\n",
            "Epoch 14/20\n",
            "600/600 [==============================] - 18s 30ms/step - loss: 0.1900 - accuracy: 0.9058 - mae: 0.1287 - mse: 0.0648 - val_loss: 0.1873 - val_accuracy: 0.9083 - val_mae: 0.1288 - val_mse: 0.0635\n",
            "Epoch 15/20\n",
            "600/600 [==============================] - 18s 30ms/step - loss: 0.1882 - accuracy: 0.9082 - mae: 0.1269 - mse: 0.0638 - val_loss: 0.1871 - val_accuracy: 0.9081 - val_mae: 0.1258 - val_mse: 0.0634\n",
            "Epoch 16/20\n",
            "600/600 [==============================] - 17s 28ms/step - loss: 0.1917 - accuracy: 0.9051 - mae: 0.1304 - mse: 0.0652 - val_loss: 0.2038 - val_accuracy: 0.9081 - val_mae: 0.1304 - val_mse: 0.0666\n",
            "Epoch 17/20\n",
            "600/600 [==============================] - 18s 30ms/step - loss: 0.1988 - accuracy: 0.9046 - mae: 0.1335 - mse: 0.0665 - val_loss: 0.1890 - val_accuracy: 0.9081 - val_mae: 0.1213 - val_mse: 0.0639\n",
            "Epoch 18/20\n",
            "600/600 [==============================] - 17s 29ms/step - loss: 0.1878 - accuracy: 0.9075 - mae: 0.1264 - mse: 0.0638 - val_loss: 0.1870 - val_accuracy: 0.9083 - val_mae: 0.1294 - val_mse: 0.0634\n",
            "Epoch 19/20\n",
            "600/600 [==============================] - 18s 29ms/step - loss: 0.1871 - accuracy: 0.9088 - mae: 0.1269 - mse: 0.0633 - val_loss: 0.1884 - val_accuracy: 0.9083 - val_mae: 0.1299 - val_mse: 0.0640\n",
            "Epoch 20/20\n",
            "600/600 [==============================] - 17s 29ms/step - loss: 0.1865 - accuracy: 0.9088 - mae: 0.1266 - mse: 0.0633 - val_loss: 0.1866 - val_accuracy: 0.9082 - val_mae: 0.1275 - val_mse: 0.0633\n"
          ],
          "name": "stdout"
        }
      ]
    },
    {
      "cell_type": "code",
      "metadata": {
        "id": "gjtTcqyR0Hiu",
        "colab": {
          "base_uri": "https://localhost:8080/",
          "height": 279
        },
        "outputId": "f70c785e-8723-4d73-f189-1014c9fac3da"
      },
      "source": [
        "plt.plot(history.history['loss'])\r\n",
        "plt.plot(history.history['val_loss'])\r\n",
        "plt.xlabel('epoch')\r\n",
        "plt.ylabel('loss')\r\n",
        "plt.legend(['train_loss', 'val_loss'])\r\n",
        "plt.show()"
      ],
      "execution_count": null,
      "outputs": [
        {
          "output_type": "display_data",
          "data": {
            "image/png": "[encoded data removed]",
            "text/plain": [
              "<Figure size 432x288 with 1 Axes>"
            ]
          },
          "metadata": {
            "tags": [],
            "needs_background": "light"
          }
        }
      ]
    },
    {
      "cell_type": "code",
      "metadata": {
        "id": "Ehv1sNoUFMsb",
        "colab": {
          "base_uri": "https://localhost:8080/",
          "height": 279
        },
        "outputId": "1657801f-7b07-4a78-8631-c572669e40b6"
      },
      "source": [
        "plt.plot(history.history['accuracy'])\r\n",
        "plt.plot(history.history['val_accuracy'])\r\n",
        "plt.xlabel('epoch')\r\n",
        "plt.ylabel('accuracy')\r\n",
        "plt.legend(['train_accuracy', 'val_accuracy'])\r\n",
        "plt.show()"
      ],
      "execution_count": null,
      "outputs": [
        {
          "output_type": "display_data",
          "data": {
            "image/png": "[encoded data removed]",
            "text/plain": [
              "<Figure size 432x288 with 1 Axes>"
            ]
          },
          "metadata": {
            "tags": [],
            "needs_background": "light"
          }
        }
      ]
    },
    {
      "cell_type": "code",
      "metadata": {
        "id": "YriMm8qPqEZm",
        "colab": {
          "base_uri": "https://localhost:8080/",
          "height": 279
        },
        "outputId": "f6b5b3b2-2f3b-458c-bebf-23c8afebac92"
      },
      "source": [
        "plt.plot(history.history['mae'])\r\n",
        "plt.plot(history.history['val_mae'])\r\n",
        "plt.xlabel('epoch')\r\n",
        "plt.ylabel('MAE')\r\n",
        "plt.legend(['train_MAE', 'val_MAE'])\r\n",
        "plt.show()"
      ],
      "execution_count": null,
      "outputs": [
        {
          "output_type": "display_data",
          "data": {
            "image/png": "[encoded data removed]",
            "text/plain": [
              "<Figure size 432x288 with 1 Axes>"
            ]
          },
          "metadata": {
            "tags": [],
            "needs_background": "light"
          }
        }
      ]
    },
    {
      "cell_type": "code",
      "metadata": {
        "id": "zhze6mlJqE6L",
        "colab": {
          "base_uri": "https://localhost:8080/",
          "height": 279
        },
        "outputId": "85cc8643-67f0-4292-db05-eea384932876"
      },
      "source": [
        "plt.plot(history.history['mse'])\r\n",
        "plt.plot(history.history['val_mse'])\r\n",
        "plt.xlabel('epoch')\r\n",
        "plt.ylabel('MSE')\r\n",
        "plt.legend(['train_MSE', 'val_MSE'])\r\n",
        "plt.show()"
      ],
      "execution_count": null,
      "outputs": [
        {
          "output_type": "display_data",
          "data": {
            "image/png": "[encoded data removed]",
            "text/plain": [
              "<Figure size 432x288 with 1 Axes>"
            ]
          },
          "metadata": {
            "tags": [],
            "needs_background": "light"
          }
        }
      ]
    },
    {
      "cell_type": "code",
      "metadata": {
        "id": "yxDZetiO0IkH",
        "colab": {
          "base_uri": "https://localhost:8080/"
        },
        "outputId": "f3b63902-fa5c-4d96-f5e3-a3d18f02574a"
      },
      "source": [
        "loss_bce, accuracy_bce, mae_bce, mse_bce = model_bce.evaluate(x_val_onehot, y_val, verbose=0)\r\n",
        "print('biary_crossentropy accuracy = ', accuracy_bce)\r\n",
        "print('binary_crossentropy loss = ', loss_bce)\r\n",
        "print('binary_crossentropy mae = ',  mae_bce)\r\n",
        "print('binary_crossentropy mse = ',  mse_bce)\r\n",
        "print('binary_crossentropy RMSE = ',  sqrt(mse_bce))\r\n",
        "print('binary_crossentropy misclassfication = ', (1 - accuracy_bce))"
      ],
      "execution_count": null,
      "outputs": [
        {
          "output_type": "stream",
          "text": [
            "biary_crossentropy accuracy =  0.9081703424453735\n",
            "binary_crossentropy loss =  0.1865888237953186\n",
            "binary_crossentropy mae =  0.12750010192394257\n",
            "binary_crossentropy mse =  0.06325274705886841\n",
            "binary_crossentropy RMSE =  0.25150098818666383\n",
            "binary_crossentropy misclassfication =  0.09182965755462646\n"
          ],
          "name": "stdout"
        }
      ]
    },
    {
      "cell_type": "code",
      "metadata": {
        "colab": {
          "base_uri": "https://localhost:8080/"
        },
        "id": "lCIdHHWJiz9_",
        "outputId": "bc9e06de-5dc4-4d21-a5ae-70a9dcc086ae"
      },
      "source": [
        "model_mse = Sequential()\r\n",
        "model_mse.add(LSTM(16, activation='relu', return_sequences=True, input_shape=(24, 2)))\r\n",
        "model_mse.add(LSTM(8, activation='relu', return_sequences=True, input_shape=(24, 2)))\r\n",
        "model_mse.add(Dense(1, activation='sigmoid'))\r\n",
        "model_mse.summary()"
      ],
      "execution_count": null,
      "outputs": [
        {
          "output_type": "stream",
          "text": [
            "WARNING:tensorflow:Layer lstm_2 will not use cuDNN kernel since it doesn't meet the cuDNN kernel criteria. It will use generic GPU kernel as fallback when running on GPU\n",
            "WARNING:tensorflow:Layer lstm_3 will not use cuDNN kernel since it doesn't meet the cuDNN kernel criteria. It will use generic GPU kernel as fallback when running on GPU\n",
            "Model: \"sequential_1\"\n",
            "_________________________________________________________________\n",
            "Layer (type)                 Output Shape              Param #   \n",
            "=================================================================\n",
            "lstm_2 (LSTM)                (None, 24, 16)            1216      \n",
            "_________________________________________________________________\n",
            "lstm_3 (LSTM)                (None, 24, 8)             800       \n",
            "_________________________________________________________________\n",
            "dense_1 (Dense)              (None, 24, 1)             9         \n",
            "=================================================================\n",
            "Total params: 2,025\n",
            "Trainable params: 2,025\n",
            "Non-trainable params: 0\n",
            "_________________________________________________________________\n"
          ],
          "name": "stdout"
        }
      ]
    },
    {
      "cell_type": "code",
      "metadata": {
        "colab": {
          "base_uri": "https://localhost:8080/"
        },
        "id": "xk9_pOFji0zO",
        "outputId": "ee1d0398-e66c-462a-f0b0-fd7eb22fad81"
      },
      "source": [
        "model_mse.compile(optimizer='adam', loss='mse', metrics=['accuracy', 'mae', 'mse'])\r\n",
        "history = model_mse.fit(x_train_onehot, y_train, epochs=20, batch_size=32, validation_data=(x_val_onehot, y_val))"
      ],
      "execution_count": null,
      "outputs": [
        {
          "output_type": "stream",
          "text": [
            "Epoch 1/20\n",
            "600/600 [==============================] - 19s 30ms/step - loss: 0.1554 - accuracy: 0.8071 - mae: 0.3233 - mse: 0.1554 - val_loss: 0.0822 - val_accuracy: 0.8865 - val_mae: 0.1767 - val_mse: 0.0822\n",
            "Epoch 2/20\n",
            "600/600 [==============================] - 17s 29ms/step - loss: 0.0817 - accuracy: 0.8847 - mae: 0.1719 - mse: 0.0817 - val_loss: 0.0922 - val_accuracy: 0.8303 - val_mae: 0.1905 - val_mse: 0.0922\n",
            "Epoch 3/20\n",
            "600/600 [==============================] - 17s 29ms/step - loss: 0.0802 - accuracy: 0.8830 - mae: 0.1676 - mse: 0.0802 - val_loss: 0.0769 - val_accuracy: 0.8912 - val_mae: 0.1687 - val_mse: 0.0769\n",
            "Epoch 4/20\n",
            "600/600 [==============================] - 17s 29ms/step - loss: 0.0781 - accuracy: 0.8871 - mae: 0.1628 - mse: 0.0781 - val_loss: 0.0741 - val_accuracy: 0.8995 - val_mae: 0.1581 - val_mse: 0.0741\n",
            "Epoch 5/20\n",
            "600/600 [==============================] - 17s 29ms/step - loss: 0.0765 - accuracy: 0.8957 - mae: 0.1580 - mse: 0.0765 - val_loss: 0.0742 - val_accuracy: 0.9000 - val_mae: 0.1469 - val_mse: 0.0742\n",
            "Epoch 6/20\n",
            "600/600 [==============================] - 18s 30ms/step - loss: 0.0746 - accuracy: 0.8979 - mae: 0.1540 - mse: 0.0746 - val_loss: 0.0729 - val_accuracy: 0.9002 - val_mae: 0.1524 - val_mse: 0.0729\n",
            "Epoch 7/20\n",
            "600/600 [==============================] - 18s 30ms/step - loss: 0.0740 - accuracy: 0.8986 - mae: 0.1511 - mse: 0.0740 - val_loss: 0.0732 - val_accuracy: 0.9001 - val_mae: 0.1447 - val_mse: 0.0732\n",
            "Epoch 8/20\n",
            "600/600 [==============================] - 17s 28ms/step - loss: 0.0736 - accuracy: 0.8985 - mae: 0.1501 - mse: 0.0736 - val_loss: 0.0729 - val_accuracy: 0.9000 - val_mae: 0.1415 - val_mse: 0.0729\n",
            "Epoch 9/20\n",
            "600/600 [==============================] - 17s 29ms/step - loss: 0.0721 - accuracy: 0.9015 - mae: 0.1456 - mse: 0.0721 - val_loss: 0.0715 - val_accuracy: 0.9062 - val_mae: 0.1379 - val_mse: 0.0715\n",
            "Epoch 10/20\n",
            "600/600 [==============================] - 18s 30ms/step - loss: 0.0726 - accuracy: 0.9032 - mae: 0.1450 - mse: 0.0726 - val_loss: 0.0700 - val_accuracy: 0.9083 - val_mae: 0.1457 - val_mse: 0.0700\n",
            "Epoch 11/20\n",
            "600/600 [==============================] - 18s 29ms/step - loss: 0.0715 - accuracy: 0.9040 - mae: 0.1421 - mse: 0.0715 - val_loss: 0.0684 - val_accuracy: 0.9083 - val_mae: 0.1406 - val_mse: 0.0684\n",
            "Epoch 12/20\n",
            "600/600 [==============================] - 17s 29ms/step - loss: 0.0696 - accuracy: 0.9065 - mae: 0.1379 - mse: 0.0696 - val_loss: 0.0677 - val_accuracy: 0.9083 - val_mae: 0.1374 - val_mse: 0.0677\n",
            "Epoch 13/20\n",
            "600/600 [==============================] - 17s 29ms/step - loss: 0.0705 - accuracy: 0.9043 - mae: 0.1384 - mse: 0.0705 - val_loss: 0.1166 - val_accuracy: 0.8657 - val_mae: 0.1651 - val_mse: 0.1166\n",
            "Epoch 14/20\n",
            "600/600 [==============================] - 18s 29ms/step - loss: 0.0834 - accuracy: 0.8922 - mae: 0.1494 - mse: 0.0834 - val_loss: 0.0692 - val_accuracy: 0.9083 - val_mae: 0.1456 - val_mse: 0.0692\n",
            "Epoch 15/20\n",
            "600/600 [==============================] - 17s 28ms/step - loss: 0.0682 - accuracy: 0.9074 - mae: 0.1363 - mse: 0.0682 - val_loss: 0.0676 - val_accuracy: 0.9083 - val_mae: 0.1383 - val_mse: 0.0676\n",
            "Epoch 16/20\n",
            "600/600 [==============================] - 18s 29ms/step - loss: 0.0687 - accuracy: 0.9055 - mae: 0.1369 - mse: 0.0687 - val_loss: 0.0670 - val_accuracy: 0.9083 - val_mae: 0.1362 - val_mse: 0.0670\n",
            "Epoch 17/20\n",
            "600/600 [==============================] - 18s 30ms/step - loss: 0.0683 - accuracy: 0.9060 - mae: 0.1358 - mse: 0.0683 - val_loss: 0.0664 - val_accuracy: 0.9083 - val_mae: 0.1333 - val_mse: 0.0664\n",
            "Epoch 18/20\n",
            "600/600 [==============================] - 17s 28ms/step - loss: 0.0693 - accuracy: 0.9039 - mae: 0.1385 - mse: 0.0693 - val_loss: 0.0664 - val_accuracy: 0.9083 - val_mae: 0.1379 - val_mse: 0.0664\n",
            "Epoch 19/20\n",
            "600/600 [==============================] - 18s 30ms/step - loss: 0.0695 - accuracy: 0.9019 - mae: 0.1389 - mse: 0.0695 - val_loss: 0.0650 - val_accuracy: 0.9081 - val_mae: 0.1294 - val_mse: 0.0650\n",
            "Epoch 20/20\n",
            "600/600 [==============================] - 18s 29ms/step - loss: 0.0691 - accuracy: 0.9030 - mae: 0.1360 - mse: 0.0691 - val_loss: 0.0994 - val_accuracy: 0.8729 - val_mae: 0.1665 - val_mse: 0.0994\n"
          ],
          "name": "stdout"
        }
      ]
    },
    {
      "cell_type": "code",
      "metadata": {
        "colab": {
          "base_uri": "https://localhost:8080/",
          "height": 279
        },
        "id": "uuXayBBRi1H0",
        "outputId": "04c06f06-2dbb-40be-8614-74522f826a37"
      },
      "source": [
        "plt.plot(history.history['loss'])\r\n",
        "plt.plot(history.history['val_loss'])\r\n",
        "plt.xlabel('epoch')\r\n",
        "plt.ylabel('loss')\r\n",
        "plt.legend(['train_loss', 'val_loss'])\r\n",
        "plt.show()"
      ],
      "execution_count": null,
      "outputs": [
        {
          "output_type": "display_data",
          "data": {
            "image/png": "[encoded data removed]",
            "text/plain": [
              "<Figure size 432x288 with 1 Axes>"
            ]
          },
          "metadata": {
            "tags": [],
            "needs_background": "light"
          }
        }
      ]
    },
    {
      "cell_type": "code",
      "metadata": {
        "colab": {
          "base_uri": "https://localhost:8080/",
          "height": 279
        },
        "id": "7j0pxxaQi1lR",
        "outputId": "1a6df6d5-4514-4e89-b1de-b1e700e61cb7"
      },
      "source": [
        "plt.plot(history.history['accuracy'])\r\n",
        "plt.plot(history.history['val_accuracy'])\r\n",
        "plt.xlabel('epoch')\r\n",
        "plt.ylabel('accuracy')\r\n",
        "plt.legend(['train_accuracy', 'val_accuracy'])\r\n",
        "plt.show()"
      ],
      "execution_count": null,
      "outputs": [
        {
          "output_type": "display_data",
          "data": {
            "image/png": "[encoded data removed]",
            "text/plain": [
              "<Figure size 432x288 with 1 Axes>"
            ]
          },
          "metadata": {
            "tags": [],
            "needs_background": "light"
          }
        }
      ]
    },
    {
      "cell_type": "code",
      "metadata": {
        "colab": {
          "base_uri": "https://localhost:8080/",
          "height": 279
        },
        "id": "DT1i5HU_i1_p",
        "outputId": "c3e096a2-92ee-471e-8f2e-20bd6819fd5d"
      },
      "source": [
        "plt.plot(history.history['mae'])\r\n",
        "plt.plot(history.history['val_mae'])\r\n",
        "plt.xlabel('epoch')\r\n",
        "plt.ylabel('MAE')\r\n",
        "plt.legend(['train_MAE', 'val_MAE'])\r\n",
        "plt.show()"
      ],
      "execution_count": null,
      "outputs": [
        {
          "output_type": "display_data",
          "data": {
            "image/png": "[encoded data removed]",
            "text/plain": [
              "<Figure size 432x288 with 1 Axes>"
            ]
          },
          "metadata": {
            "tags": [],
            "needs_background": "light"
          }
        }
      ]
    },
    {
      "cell_type": "code",
      "metadata": {
        "colab": {
          "base_uri": "https://localhost:8080/",
          "height": 279
        },
        "id": "hqMnNgbqi2rs",
        "outputId": "4f156f98-942b-4b8c-bb4c-cc65096226e2"
      },
      "source": [
        "plt.plot(history.history['mse'])\r\n",
        "plt.plot(history.history['val_mse'])\r\n",
        "plt.xlabel('epoch')\r\n",
        "plt.ylabel('MSE')\r\n",
        "plt.legend(['train_MSE', 'val_MSE'])\r\n",
        "plt.show()"
      ],
      "execution_count": null,
      "outputs": [
        {
          "output_type": "display_data",
          "data": {
            "image/png": "[encoded data removed]",
            "text/plain": [
              "<Figure size 432x288 with 1 Axes>"
            ]
          },
          "metadata": {
            "tags": [],
            "needs_background": "light"
          }
        }
      ]
    },
    {
      "cell_type": "code",
      "metadata": {
        "colab": {
          "base_uri": "https://localhost:8080/"
        },
        "id": "HD89HHwAi_hS",
        "outputId": "8d6fd414-355c-4cb6-bdcf-26db3d2d5c83"
      },
      "source": [
        "loss_mse, accuracy_mse, mae_mse, mse_mse = model_mse.evaluate(x_val_onehot, y_val, verbose=0)\r\n",
        "print('mse accuracy = ', accuracy_mse)\r\n",
        "print('mse loss = ', loss_mse)\r\n",
        "print('mse mae = ',  mae_mse)\r\n",
        "print('mse mse = ',  mse_mse)\r\n",
        "print('mse RMSE = ',  sqrt(mse_mse))\r\n",
        "print('mse misclassfication = ', (1 - accuracy_mse))"
      ],
      "execution_count": null,
      "outputs": [
        {
          "output_type": "stream",
          "text": [
            "mse accuracy =  0.8728947043418884\n",
            "mse loss =  0.09940016269683838\n",
            "mse mae =  0.16652488708496094\n",
            "mse mse =  0.09940016269683838\n",
            "mse RMSE =  0.3152779134301012\n",
            "mse misclassfication =  0.12710529565811157\n"
          ],
          "name": "stdout"
        }
      ]
    },
    {
      "cell_type": "code",
      "metadata": {
        "id": "9V5_UYS4nK1H"
      },
      "source": [
        ""
      ],
      "execution_count": null,
      "outputs": []
    }
  ]
}
